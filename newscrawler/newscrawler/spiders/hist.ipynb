{
 "cells": [
  {
   "cell_type": "code",
   "execution_count": 57,
   "metadata": {},
   "outputs": [
    {
     "data": {
      "text/plain": [
       "artist\n",
       "21 Savage                     1\n",
       "Mustard                       1\n",
       "Morgan Wallen                 1\n",
       "Miranda Lambert               1\n",
       "Migos                         1\n",
       "Metro Boomin                  1\n",
       "Metallica                     1\n",
       "Melanie Martinez              1\n",
       "Megan Thee Stallion           1\n",
       "Meek Mill                     1\n",
       "Marshmello                    1\n",
       "Maroon 5                      1\n",
       "Maren Morris                  1\n",
       "Machine Gun Kelly             1\n",
       "Mac Miller                    1\n",
       "Lil Wayne                     1\n",
       "Lil Uzi Vert                  1\n",
       "Lil Tjay                      1\n",
       "Lil Tecca                     1\n",
       "Lil Nas X                     1\n",
       "Lil Mosey                     1\n",
       "Lil Baby & Gunna              1\n",
       "Lewis Capaldi                 1\n",
       "Zac Brown Band                1\n",
       "Lady Gaga & Bradley Cooper    1\n",
       "Lady Antebellum               1\n",
       "Kodak Black                   1\n",
       "Kevin Gates                   1\n",
       "NLE Choppa                    1\n",
       "Nipsey Hussle                 1\n",
       "                             ..\n",
       "Tyler, The Creator            2\n",
       "Various Artists               2\n",
       "YNW Melly                     2\n",
       "Kane Brown                    2\n",
       "YoungBoy Never Broke Again    2\n",
       "Adele                         2\n",
       "Lizzo                         2\n",
       "Jason Aldean                  2\n",
       "Blake Shelton                 2\n",
       "Luke Combs                    2\n",
       "DaBaby                        2\n",
       "NF                            2\n",
       "Camila Cabello                2\n",
       "Roddy Ricch                   2\n",
       "Lil Baby                      2\n",
       "twenty one pilots             2\n",
       "Lana Del Rey                  2\n",
       "Michael Jackson               2\n",
       "Bruno Mars                    2\n",
       "Eminem                        3\n",
       "Taylor Swift                  3\n",
       "Post Malone                   3\n",
       "Trippie Redd                  3\n",
       "Ed Sheeran                    3\n",
       "Kanye West                    3\n",
       "XXXTENTACION                  3\n",
       "The Beatles                   3\n",
       "Imagine Dragons               3\n",
       "Soundtrack                    4\n",
       "Drake                         5\n",
       "Length: 148, dtype: int64"
      ]
     },
     "execution_count": 57,
     "metadata": {},
     "output_type": "execute_result"
    }
   ],
   "source": [
    "import pandas as pd\n",
    "import matplotlib.pyplot as plt\n",
    "import numpy as np\n",
    "scrap = pd.read_json(\"scrap200.json\")\n",
    "# a = \"\"\n",
    "#\n",
    "# for i in scrap[\"artist\"]:\n",
    "#     a = a+i+\"\\n\"\n",
    "# print(a)\n",
    "#print(scrap[\"artist\"].duplicated())\n",
    "#print(scrap['artist'].values_count())\n",
    "artist = scrap.groupby('artist').size()\n",
    "artist = artist.sort_values(ascending=True)\n",
    "artist"
   ]
  },
  {
   "cell_type": "code",
   "execution_count": 19,
   "metadata": {},
   "outputs": [
    {
     "data": {
      "text/plain": [
       "<function matplotlib.pyplot.show>"
      ]
     },
     "execution_count": 19,
     "metadata": {},
     "output_type": "execute_result"
    },
    {
     "data": {
      "image/png": "[encoded data removed]",
      "text/plain": [
       "<Figure size 432x288 with 1 Axes>"
      ]
     },
     "metadata": {
      "needs_background": "light"
     },
     "output_type": "display_data"
    }
   ],
   "source": [
    "plt.hist(x=artist, bins=5, color='#0504aa', alpha=0.7, rwidth=0.85)\n",
    "plt.show"
   ]
  },
  {
   "cell_type": "code",
   "execution_count": 37,
   "metadata": {},
   "outputs": [
    {
     "data": {
      "text/plain": [
       "array([5, 4, 3, 3, 3, 3, 3, 3, 3, 3, 3, 2, 2, 2, 2, 2, 2, 2, 2, 2, 2, 2,\n",
       "       2, 2, 2, 2, 2, 2, 2, 2, 2, 2, 2, 2, 2, 2, 2, 2, 1, 1, 1, 1, 1, 1,\n",
       "       1, 1, 1, 1, 1, 1, 1, 1, 1, 1, 1, 1, 1, 1, 1, 1, 1, 1, 1, 1, 1, 1,\n",
       "       1, 1, 1, 1, 1, 1, 1, 1, 1, 1, 1, 1, 1, 1, 1, 1, 1, 1, 1, 1, 1, 1,\n",
       "       1, 1, 1, 1, 1, 1, 1, 1, 1, 1, 1, 1, 1, 1, 1, 1, 1, 1, 1, 1, 1, 1,\n",
       "       1, 1, 1, 1, 1, 1, 1, 1, 1, 1, 1, 1, 1, 1, 1, 1, 1, 1, 1, 1, 1, 1,\n",
       "       1, 1, 1, 1, 1, 1, 1, 1, 1, 1, 1, 1, 1, 1, 1, 1])"
      ]
     },
     "execution_count": 37,
     "metadata": {},
     "output_type": "execute_result"
    }
   ],
   "source": [
    "artist.values"
   ]
  },
  {
   "cell_type": "code",
   "execution_count": 61,
   "metadata": {},
   "outputs": [
    {
     "data": {
      "text/plain": [
       "<BarContainer object of 20 artists>"
      ]
     },
     "execution_count": 61,
     "metadata": {},
     "output_type": "execute_result"
    },
    {
     "data": {
      "image/png": "[encoded data removed]",
      "text/plain": [
       "<Figure size 432x288 with 1 Axes>"
      ]
     },
     "metadata": {
      "needs_background": "light"
     },
     "output_type": "display_data"
    }
   ],
   "source": [
    "plt.barh(artist[-20:].index, artist[-20:].values, align='center', alpha=0.5)"
   ]
  },
  {
   "cell_type": "code",
   "execution_count": 3,
   "metadata": {},
   "outputs": [
    {
     "ename": "ModuleNotFoundError",
     "evalue": "No module named 'plotly'",
     "output_type": "error",
     "traceback": [
      "\u001b[0;31m---------------------------------------------------------------------------\u001b[0m",
      "\u001b[0;31mModuleNotFoundError\u001b[0m                       Traceback (most recent call last)",
      "\u001b[0;32m<ipython-input-3-254bf3923bfd>\u001b[0m in \u001b[0;36m<module>\u001b[0;34m()\u001b[0m\n\u001b[1;32m      3\u001b[0m \u001b[0;32mimport\u001b[0m \u001b[0mpandas\u001b[0m \u001b[0;32mas\u001b[0m \u001b[0mpd\u001b[0m\u001b[0;34m\u001b[0m\u001b[0;34m\u001b[0m\u001b[0m\n\u001b[1;32m      4\u001b[0m \u001b[0;32mimport\u001b[0m \u001b[0mmatplotlib\u001b[0m\u001b[0;34m.\u001b[0m\u001b[0mpyplot\u001b[0m \u001b[0;32mas\u001b[0m \u001b[0mplt\u001b[0m\u001b[0;34m\u001b[0m\u001b[0;34m\u001b[0m\u001b[0m\n\u001b[0;32m----> 5\u001b[0;31m \u001b[0;32mimport\u001b[0m \u001b[0mplotly\u001b[0m\u001b[0;34m\u001b[0m\u001b[0;34m\u001b[0m\u001b[0m\n\u001b[0m\u001b[1;32m      6\u001b[0m \u001b[0;32mimport\u001b[0m \u001b[0mplotly\u001b[0m\u001b[0;34m.\u001b[0m\u001b[0mgraph_objs\u001b[0m \u001b[0;32mas\u001b[0m \u001b[0mgo\u001b[0m\u001b[0;34m\u001b[0m\u001b[0;34m\u001b[0m\u001b[0m\n\u001b[1;32m      7\u001b[0m \u001b[0;32mimport\u001b[0m \u001b[0mjson\u001b[0m\u001b[0;34m\u001b[0m\u001b[0;34m\u001b[0m\u001b[0m\n",
      "\u001b[0;31mModuleNotFoundError\u001b[0m: No module named 'plotly'"
     ]
    }
   ],
   "source": [
    "from pymongo import MongoClient\n",
    "from flask import Flask\n",
    "import pandas as pd\n",
    "import matplotlib.pyplot as plt\n",
    "import plotly\n",
    "import plotly.graph_objs as go\n",
    "import json\n",
    "import numpy as np\n",
    "from flask import render_template, render_template_string\n",
    "\n",
    "scrap = pd.read_json(\"./newscrawler/newscrawler/spiders/scrap200.json\")\n",
    "artist = scrap.groupby('artist').size()\n",
    "artist = artist.sort_values(ascending=True)\n",
    "data = [ go.Bar(x=artist[-20:].index, y = artist[-20:].values)]\n",
    "graphJSON = json.dumps(data, cls=plotly.utils.PlotlyJSONEncoder)\n",
    "\n",
    "return graphJSON #plt.barh(artist[-20:].index, artist[-20:].values, align='center', alpha=0.5)"
   ]
  },
  {
   "cell_type": "code",
   "execution_count": null,
   "metadata": {},
   "outputs": [],
   "source": []
  }
 ],
 "metadata": {
  "kernelspec": {
   "display_name": "Python 3",
   "language": "python",
   "name": "python3"
  },
  "language_info": {
   "codemirror_mode": {
    "name": "ipython",
    "version": 3
   },
   "file_extension": ".py",
   "mimetype": "text/x-python",
   "name": "python",
   "nbconvert_exporter": "python",
   "pygments_lexer": "ipython3",
   "version": "3.7.3"
  }
 },
 "nbformat": 4,
 "nbformat_minor": 2
}
