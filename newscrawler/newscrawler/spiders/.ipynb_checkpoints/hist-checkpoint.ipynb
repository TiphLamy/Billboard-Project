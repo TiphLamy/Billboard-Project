{
 "cells": [
  {
   "cell_type": "code",
   "execution_count": 3,
   "metadata": {},
   "outputs": [
    {
     "data": {
      "text/plain": [
       "<function matplotlib.pyplot.show>"
      ]
     },
     "execution_count": 3,
     "metadata": {},
     "output_type": "execute_result"
    },
    {
     "data": {
      "image/png": "[encoded data removed]",
      "text/plain": [
       "<Figure size 432x288 with 1 Axes>"
      ]
     },
     "metadata": {
      "needs_background": "light"
     },
     "output_type": "display_data"
    }
   ],
   "source": [
    "import pandas as pd\n",
    "import matplotlib.pyplot as plt\n",
    "scrap = pd.read_json(\"scrap200.json\")\n",
    "# a = \"\"\n",
    "#\n",
    "# for i in scrap[\"artist\"]:\n",
    "#     a = a+i+\"\\n\"\n",
    "# print(a)\n",
    "#print(scrap[\"artist\"].duplicated())\n",
    "#print(scrap['artist'].values_count())\n",
    "artist = scrap.groupby('artist').size()\n",
    "plt.hist(x=scrap.artist, bins='auto', color='#0504aa', alpha=0.7, rwidth=0.85)\n",
    "plt.show"
   ]
  },
  {
   "cell_type": "code",
   "execution_count": 2,
   "metadata": {},
   "outputs": [
    {
     "name": "stdout",
     "output_type": "stream",
     "text": [
      "billboard.py  mongo.py\t   scrap200.json  test.py\t   Untitled.ipynb\r\n",
      "__init__.py   __pycache__  test_flask.py  Untitled1.ipynb\r\n"
     ]
    }
   ],
   "source": [
    "!ls\n"
   ]
  },
  {
   "cell_type": "code",
   "execution_count": null,
   "metadata": {},
   "outputs": [],
   "source": []
  }
 ],
 "metadata": {
  "kernelspec": {
   "display_name": "Python 3",
   "language": "python",
   "name": "python3"
  },
  "language_info": {
   "codemirror_mode": {
    "name": "ipython",
    "version": 3
   },
   "file_extension": ".py",
   "mimetype": "text/x-python",
   "name": "python",
   "nbconvert_exporter": "python",
   "pygments_lexer": "ipython3",
   "version": "3.7.3"
  }
 },
 "nbformat": 4,
 "nbformat_minor": 2
}
