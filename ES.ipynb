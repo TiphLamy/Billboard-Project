{
 "cells": [
  {
   "cell_type": "code",
   "execution_count": 1,
   "metadata": {},
   "outputs": [
    {
     "name": "stdout",
     "output_type": "stream",
     "text": [
      "Requirement already satisfied: elasticsearch in /user/lamyvert/.local/lib/python2.7/site-packages (7.5.1)\n",
      "Requirement already satisfied: urllib3>=1.21.1 in /usr/lib/python2.7/dist-packages (from elasticsearch) (1.24.1)\n",
      "Requirement already satisfied: pymongo in /usr/lib/python2.7/dist-packages (3.7.1)\n"
     ]
    }
   ],
   "source": [
    "!pip install elasticsearch\n",
    "!pip install pymongo"
   ]
  },
  {
   "cell_type": "code",
   "execution_count": 1,
   "metadata": {},
   "outputs": [],
   "source": [
    "from pymongo import MongoClient"
   ]
  },
  {
   "cell_type": "code",
   "execution_count": 2,
   "metadata": {},
   "outputs": [],
   "source": [
    "from elasticsearch import Elasticsearch\n",
    "from elasticsearch.helpers import bulk\n",
    "\n",
    "import pandas as pd\n",
    "import json\n",
    "\n",
    "\n",
    "import numpy as np\n",
    "\n",
    "LOCAL = True\n",
    "\n",
    "es_client = Elasticsearch(hosts=[\"localhost\" if LOCAL else \"elasticsearch\"])\n",
    "\n",
    "#df_billboard = pd.read_json(\"./newscrawler/newscrawler/spiders/scrap200.json\")"
   ]
  },
  {
   "cell_type": "code",
   "execution_count": 3,
   "metadata": {},
   "outputs": [],
   "source": [
    "client = MongoClient()\n",
    "db = client[\"client_name\"]\n",
    "billboard = db[\"billboard\"]"
   ]
  },
  {
   "cell_type": "code",
   "execution_count": 4,
   "metadata": {},
   "outputs": [
    {
     "data": {
      "text/html": [
       "<div>\n",
       "<style scoped>\n",
       "    .dataframe tbody tr th:only-of-type {\n",
       "        vertical-align: middle;\n",
       "    }\n",
       "\n",
       "    .dataframe tbody tr th {\n",
       "        vertical-align: top;\n",
       "    }\n",
       "\n",
       "    .dataframe thead th {\n",
       "        text-align: right;\n",
       "    }\n",
       "</style>\n",
       "<table border=\"1\" class=\"dataframe\">\n",
       "  <thead>\n",
       "    <tr style=\"text-align: right;\">\n",
       "      <th></th>\n",
       "      <th>_id</th>\n",
       "      <th>album</th>\n",
       "      <th>artist</th>\n",
       "      <th>rank</th>\n",
       "    </tr>\n",
       "  </thead>\n",
       "  <tbody>\n",
       "    <tr>\n",
       "      <th>0</th>\n",
       "      <td>5e4f97c8cede4c262f788206</td>\n",
       "      <td>Please Excuse Me For Being Antisocial</td>\n",
       "      <td>Roddy Ricch</td>\n",
       "      <td>1</td>\n",
       "    </tr>\n",
       "    <tr>\n",
       "      <th>1</th>\n",
       "      <td>5e4f97c8cede4c262f788207</td>\n",
       "      <td>Hollywood's Bleeding</td>\n",
       "      <td>Post Malone</td>\n",
       "      <td>2</td>\n",
       "    </tr>\n",
       "    <tr>\n",
       "      <th>2</th>\n",
       "      <td>5e4f97c8cede4c262f788208</td>\n",
       "      <td>Music To Be Murdered By</td>\n",
       "      <td>Eminem</td>\n",
       "      <td>3</td>\n",
       "    </tr>\n",
       "    <tr>\n",
       "      <th>3</th>\n",
       "      <td>5e4f97c8cede4c262f788209</td>\n",
       "      <td>Father Of All...</td>\n",
       "      <td>Green Day</td>\n",
       "      <td>4</td>\n",
       "    </tr>\n",
       "    <tr>\n",
       "      <th>4</th>\n",
       "      <td>5e4f97c8cede4c262f78820a</td>\n",
       "      <td>When We All Fall Asleep, Where Do We Go?</td>\n",
       "      <td>Billie Eilish</td>\n",
       "      <td>5</td>\n",
       "    </tr>\n",
       "  </tbody>\n",
       "</table>\n",
       "</div>"
      ],
      "text/plain": [
       "                        _id                                     album  \\\n",
       "0  5e4f97c8cede4c262f788206     Please Excuse Me For Being Antisocial   \n",
       "1  5e4f97c8cede4c262f788207                      Hollywood's Bleeding   \n",
       "2  5e4f97c8cede4c262f788208                   Music To Be Murdered By   \n",
       "3  5e4f97c8cede4c262f788209                          Father Of All...   \n",
       "4  5e4f97c8cede4c262f78820a  When We All Fall Asleep, Where Do We Go?   \n",
       "\n",
       "          artist rank  \n",
       "0    Roddy Ricch    1  \n",
       "1    Post Malone    2  \n",
       "2         Eminem    3  \n",
       "3      Green Day    4  \n",
       "4  Billie Eilish    5  "
      ]
     },
     "execution_count": 4,
     "metadata": {},
     "output_type": "execute_result"
    }
   ],
   "source": [
    "df_billboard = pd.DataFrame(list(billboard.find()))\n",
    "df_billboard.head()"
   ]
  },
  {
   "cell_type": "code",
   "execution_count": 5,
   "metadata": {},
   "outputs": [],
   "source": [
    "df_billboard_clean = df_billboard.drop(labels='_id',axis='columns')\n",
    "documents = df_billboard_clean.fillna(\"\").to_dict(orient=\"records\")"
   ]
  },
  {
   "cell_type": "code",
   "execution_count": 6,
   "metadata": {},
   "outputs": [
    {
     "data": {
      "text/plain": [
       "[{'album': 'Please Excuse Me For Being Antisocial',\n",
       "  'artist': 'Roddy Ricch',\n",
       "  'rank': '1'}]"
      ]
     },
     "execution_count": 6,
     "metadata": {},
     "output_type": "execute_result"
    }
   ],
   "source": [
    "documents[0:1]"
   ]
  },
  {
   "cell_type": "code",
   "execution_count": 7,
   "metadata": {},
   "outputs": [
    {
     "data": {
      "text/plain": [
       "200"
      ]
     },
     "execution_count": 7,
     "metadata": {},
     "output_type": "execute_result"
    }
   ],
   "source": [
    "len(documents)"
   ]
  },
  {
   "cell_type": "code",
   "execution_count": 8,
   "metadata": {},
   "outputs": [
    {
     "data": {
      "text/plain": [
       "(200, [])"
      ]
     },
     "execution_count": 8,
     "metadata": {},
     "output_type": "execute_result"
    }
   ],
   "source": [
    "def generate_data(documents):\n",
    "    for docu in documents:\n",
    "        yield {\n",
    "            \"_index\": \"albums\",\n",
    "            \"_type\": \"album\",\n",
    "            #\"_source\": {k:v if v else None for k,v in docu.items()},\n",
    "        }\n",
    "\n",
    "bulk(es_client, generate_data(documents))"
   ]
  },
  {
   "cell_type": "code",
   "execution_count": 9,
   "metadata": {},
   "outputs": [],
   "source": [
    "#!curl http://localhost:9200/_cat/indices?v"
   ]
  },
  {
   "cell_type": "code",
   "execution_count": 10,
   "metadata": {},
   "outputs": [],
   "source": [
    "#!curl http://localhost:9200/albums/_search"
   ]
  },
  {
   "cell_type": "code",
   "execution_count": 11,
   "metadata": {},
   "outputs": [],
   "source": [
    "QUERY = {\n",
    "  \"query\": {\n",
    "    \"multi_match\" : {\n",
    "      \"query\":    \"halsey\",\n",
    "      \"fields\": [ \"artist\" ] \n",
    "    }\n",
    "  }\n",
    "}"
   ]
  },
  {
   "cell_type": "code",
   "execution_count": 12,
   "metadata": {
    "scrolled": true
   },
   "outputs": [
    {
     "ename": "TypeError",
     "evalue": "string indices must be integers",
     "output_type": "error",
     "traceback": [
      "\u001b[0;31m---------------------------------------------------------------------------\u001b[0m",
      "\u001b[0;31mTypeError\u001b[0m                                 Traceback (most recent call last)",
      "\u001b[0;32m<ipython-input-12-abbce374db13>\u001b[0m in \u001b[0;36m<module>\u001b[0;34m()\u001b[0m\n\u001b[1;32m      1\u001b[0m \u001b[0mresult\u001b[0m \u001b[0;34m=\u001b[0m \u001b[0mes_client\u001b[0m\u001b[0;34m.\u001b[0m\u001b[0msearch\u001b[0m\u001b[0;34m(\u001b[0m\u001b[0mindex\u001b[0m\u001b[0;34m=\u001b[0m\u001b[0;34m\"albums\"\u001b[0m\u001b[0;34m,\u001b[0m \u001b[0mbody\u001b[0m\u001b[0;34m=\u001b[0m\u001b[0mQUERY\u001b[0m\u001b[0;34m)\u001b[0m\u001b[0;34m\u001b[0m\u001b[0;34m\u001b[0m\u001b[0m\n\u001b[0;32m----> 2\u001b[0;31m \u001b[0;34m[\u001b[0m\u001b[0melt\u001b[0m\u001b[0;34m[\u001b[0m\u001b[0;34m'album'\u001b[0m\u001b[0;34m]\u001b[0m \u001b[0;32mfor\u001b[0m \u001b[0melt\u001b[0m \u001b[0;32min\u001b[0m \u001b[0mresult\u001b[0m\u001b[0;34m[\u001b[0m\u001b[0;34m\"hits\"\u001b[0m\u001b[0;34m]\u001b[0m\u001b[0;34m]\u001b[0m\u001b[0;34m\u001b[0m\u001b[0;34m\u001b[0m\u001b[0m\n\u001b[0m",
      "\u001b[0;32m<ipython-input-12-abbce374db13>\u001b[0m in \u001b[0;36m<listcomp>\u001b[0;34m(.0)\u001b[0m\n\u001b[1;32m      1\u001b[0m \u001b[0mresult\u001b[0m \u001b[0;34m=\u001b[0m \u001b[0mes_client\u001b[0m\u001b[0;34m.\u001b[0m\u001b[0msearch\u001b[0m\u001b[0;34m(\u001b[0m\u001b[0mindex\u001b[0m\u001b[0;34m=\u001b[0m\u001b[0;34m\"albums\"\u001b[0m\u001b[0;34m,\u001b[0m \u001b[0mbody\u001b[0m\u001b[0;34m=\u001b[0m\u001b[0mQUERY\u001b[0m\u001b[0;34m)\u001b[0m\u001b[0;34m\u001b[0m\u001b[0;34m\u001b[0m\u001b[0m\n\u001b[0;32m----> 2\u001b[0;31m \u001b[0;34m[\u001b[0m\u001b[0melt\u001b[0m\u001b[0;34m[\u001b[0m\u001b[0;34m'album'\u001b[0m\u001b[0;34m]\u001b[0m \u001b[0;32mfor\u001b[0m \u001b[0melt\u001b[0m \u001b[0;32min\u001b[0m \u001b[0mresult\u001b[0m\u001b[0;34m[\u001b[0m\u001b[0;34m\"hits\"\u001b[0m\u001b[0;34m]\u001b[0m\u001b[0;34m]\u001b[0m\u001b[0;34m\u001b[0m\u001b[0;34m\u001b[0m\u001b[0m\n\u001b[0m",
      "\u001b[0;31mTypeError\u001b[0m: string indices must be integers"
     ]
    }
   ],
   "source": [
    "result = es_client.search(index=\"albums\", body=QUERY)\n",
    "[elt['album'] for elt in result[\"hits\"]]"
   ]
  },
  {
   "cell_type": "code",
   "execution_count": 13,
   "metadata": {},
   "outputs": [
    {
     "data": {
      "text/plain": [
       "4"
      ]
     },
     "execution_count": 13,
     "metadata": {},
     "output_type": "execute_result"
    }
   ],
   "source": [
    "len(result)"
   ]
  },
  {
   "cell_type": "code",
   "execution_count": 14,
   "metadata": {},
   "outputs": [
    {
     "data": {
      "text/plain": [
       "[{'_index': 'albums',\n",
       "  '_type': 'album',\n",
       "  '_id': 'T4IEZ3ABDoZpy6JhEJRi',\n",
       "  '_score': 6.6659617,\n",
       "  '_source': {'album': 'Manic', 'artist': 'Halsey', 'rank': '8'}},\n",
       " {'_index': 'albums',\n",
       "  '_type': 'album',\n",
       "  '_id': 'L4ICZ3ABDoZpy6JhfpEA',\n",
       "  '_score': 6.6659617,\n",
       "  '_source': {'album': 'Manic', 'artist': 'Halsey', 'rank': '8'}},\n",
       " {'_index': 'albums',\n",
       "  '_type': 'album',\n",
       "  '_id': 'N4IdZ3ABDoZpy6JhIphM',\n",
       "  '_score': 6.6659617,\n",
       "  '_source': {'album': 'Manic', 'artist': 'Halsey', 'rank': '8'}},\n",
       " {'_index': 'albums',\n",
       "  '_type': 'album',\n",
       "  '_id': 'b4IXZ3ABDoZpy6JhjZcE',\n",
       "  '_score': 6.6659617,\n",
       "  '_source': {'album': 'Manic', 'artist': 'Halsey', 'rank': '8'}},\n",
       " {'_index': 'albums',\n",
       "  '_type': 'album',\n",
       "  '_id': '94ICZ3ABDoZpy6JhmpHr',\n",
       "  '_score': 6.6659617,\n",
       "  '_source': {'album': 'Manic', 'artist': 'Halsey', 'rank': '8'}},\n",
       " {'_index': 'albums',\n",
       "  '_type': 'album',\n",
       "  '_id': '34IFZ3ABDoZpy6JhCZWw',\n",
       "  '_score': 6.6659617,\n",
       "  '_source': {'album': 'Manic', 'artist': 'Halsey', 'rank': '8'}},\n",
       " {'_index': 'albums',\n",
       "  '_type': 'album',\n",
       "  '_id': 'p4IFZ3ABDoZpy6Jh45b6',\n",
       "  '_score': 6.6659617,\n",
       "  '_source': {'album': 'Manic', 'artist': 'Halsey', 'rank': '8'}},\n",
       " {'_index': 'albums',\n",
       "  '_type': 'album',\n",
       "  '_id': 'F4IEZ3ABDoZpy6JhUpVz',\n",
       "  '_score': 6.6659617,\n",
       "  '_source': {'album': 'Manic', 'artist': 'Halsey', 'rank': '8'}},\n",
       " {'_index': 'albums',\n",
       "  '_type': 'album',\n",
       "  '_id': 'v4IDZ3ABDoZpy6Jhr5LJ',\n",
       "  '_score': 6.6659617,\n",
       "  '_source': {'album': 'Manic', 'artist': 'Halsey', 'rank': '8'}},\n",
       " {'_index': 'albums',\n",
       "  '_type': 'album',\n",
       "  '_id': 'h4IDZ3ABDoZpy6Jh2ZPX',\n",
       "  '_score': 6.6659617,\n",
       "  '_source': {'album': 'Manic', 'artist': 'Halsey', 'rank': '8'}}]"
      ]
     },
     "execution_count": 14,
     "metadata": {},
     "output_type": "execute_result"
    }
   ],
   "source": [
    "result[\"hits\"][\"hits\"]"
   ]
  },
  {
   "cell_type": "code",
   "execution_count": null,
   "metadata": {},
   "outputs": [],
   "source": [
    "for el['_id'] in result[\"hits\"]:\n",
    "    "
   ]
  },
  {
   "cell_type": "code",
   "execution_count": null,
   "metadata": {},
   "outputs": [],
   "source": [
    "{'_index': 'albums',\n",
    "  '_type': 'album',\n",
    "  '_id': 'L4ICZ3ABDoZpy6JhfpEA',\n",
    "  '_score': 6.6593313,\n",
    "  '_source': {'album': 'Manic', 'artist': 'Halsey', 'rank': '8'}},"
   ]
  },
  {
   "cell_type": "code",
   "execution_count": 54,
   "metadata": {
    "collapsed": true
   },
   "outputs": [
    {
     "data": {
      "text/plain": [
       "[{'_index': 'albums',\n",
       "  '_type': 'album',\n",
       "  '_id': 'L4ICZ3ABDoZpy6JhfpEA',\n",
       "  '_score': 6.6593313,\n",
       "  '_source': {'album': 'Manic', 'artist': 'Halsey', 'rank': '8'}},\n",
       " {'_index': 'albums',\n",
       "  '_type': 'album',\n",
       "  '_id': '94ICZ3ABDoZpy6JhmpHr',\n",
       "  '_score': 6.6593313,\n",
       "  '_source': {'album': 'Manic', 'artist': 'Halsey', 'rank': '8'}},\n",
       " {'_index': 'albums',\n",
       "  '_type': 'album',\n",
       "  '_id': 'v4IDZ3ABDoZpy6Jhr5LJ',\n",
       "  '_score': 6.6593313,\n",
       "  '_source': {'album': 'Manic', 'artist': 'Halsey', 'rank': '8'}},\n",
       " {'_index': 'albums',\n",
       "  '_type': 'album',\n",
       "  '_id': 'h4IDZ3ABDoZpy6Jh2ZPX',\n",
       "  '_score': 6.6593313,\n",
       "  '_source': {'album': 'Manic', 'artist': 'Halsey', 'rank': '8'}},\n",
       " {'_index': 'albums',\n",
       "  '_type': 'album',\n",
       "  '_id': 'T4IEZ3ABDoZpy6JhEJRi',\n",
       "  '_score': 6.6593313,\n",
       "  '_source': {'album': 'Manic', 'artist': 'Halsey', 'rank': '8'}},\n",
       " {'_index': 'albums',\n",
       "  '_type': 'album',\n",
       "  '_id': 'F4IEZ3ABDoZpy6JhUpVz',\n",
       "  '_score': 6.6593313,\n",
       "  '_source': {'album': 'Manic', 'artist': 'Halsey', 'rank': '8'}},\n",
       " {'_index': 'albums',\n",
       "  '_type': 'album',\n",
       "  '_id': '34IFZ3ABDoZpy6JhCZWw',\n",
       "  '_score': 6.6593313,\n",
       "  '_source': {'album': 'Manic', 'artist': 'Halsey', 'rank': '8'}},\n",
       " {'_index': 'albums',\n",
       "  '_type': 'album',\n",
       "  '_id': 'p4IFZ3ABDoZpy6Jh45b6',\n",
       "  '_score': 6.6593313,\n",
       "  '_source': {'album': 'Manic', 'artist': 'Halsey', 'rank': '8'}},\n",
       " {'_index': 'albums',\n",
       "  '_type': 'album',\n",
       "  '_id': 'b4IXZ3ABDoZpy6JhjZcE',\n",
       "  '_score': 6.6593313,\n",
       "  '_source': {'album': 'Manic', 'artist': 'Halsey', 'rank': '8'}}]"
      ]
     },
     "execution_count": 54,
     "metadata": {},
     "output_type": "execute_result"
    }
   ],
   "source": [
    "result[\"hits\"][\"hits\"]"
   ]
  },
  {
   "cell_type": "code",
   "execution_count": 52,
   "metadata": {},
   "outputs": [
    {
     "name": "stdout",
     "output_type": "stream",
     "text": [
      " * Serving Flask app \"music_search\" (lazy loading)\n",
      " * Environment: production\n",
      "\u001b[31m   WARNING: Do not use the development server in a production environment.\u001b[0m\n",
      "\u001b[2m   Use a production WSGI server instead.\u001b[0m\n",
      " * Debug mode: on\n",
      " * Running on http://127.0.0.1:2745/ (Press CTRL+C to quit)\n",
      " * Restarting with stat\n",
      " * Debugger is active!\n",
      " * Debugger PIN: 107-460-003\n",
      "127.0.0.1 - - [19/Feb/2020 18:10:32] \"\u001b[32mGET / HTTP/1.1\u001b[0m\" 302 -\n",
      "music_search.py:38: FlaskWTFDeprecationWarning: \"flask_wtf.Form\" has been renamed to \"FlaskForm\" and will be removed in 1.0.\n",
      "  form = SearchBar()\n",
      "127.0.0.1 - - [19/Feb/2020 18:10:32] \"\u001b[37mGET /MusicSearch HTTP/1.1\u001b[0m\" 200 -\n",
      "music_search.py:38: FlaskWTFDeprecationWarning: \"flask_wtf.Form\" has been renamed to \"FlaskForm\" and will be removed in 1.0.\n",
      "  form = SearchBar()\n",
      "127.0.0.1 - - [19/Feb/2020 18:10:34] \"\u001b[32mPOST /MusicSearch HTTP/1.1\u001b[0m\" 302 -\n",
      "127.0.0.1 - - [19/Feb/2020 18:10:34] \"\u001b[1m\u001b[35mGET /information/Taylor%20Swift HTTP/1.1\u001b[0m\" 500 -\n",
      "Traceback (most recent call last):\n",
      "  File \"/usr/lib/python3/dist-packages/flask/app.py\", line 2309, in __call__\n",
      "    return self.wsgi_app(environ, start_response)\n",
      "  File \"/usr/lib/python3/dist-packages/flask/app.py\", line 2295, in wsgi_app\n",
      "    response = self.handle_exception(e)\n",
      "  File \"/usr/lib/python3/dist-packages/flask/app.py\", line 1741, in handle_exception\n",
      "    reraise(exc_type, exc_value, tb)\n",
      "  File \"/usr/lib/python3/dist-packages/flask/_compat.py\", line 35, in reraise\n",
      "    raise value\n",
      "  File \"/usr/lib/python3/dist-packages/flask/app.py\", line 2292, in wsgi_app\n",
      "    response = self.full_dispatch_request()\n",
      "  File \"/usr/lib/python3/dist-packages/flask/app.py\", line 1816, in full_dispatch_request\n",
      "    return self.finalize_request(rv)\n",
      "  File \"/usr/lib/python3/dist-packages/flask/app.py\", line 1831, in finalize_request\n",
      "    response = self.make_response(rv)\n",
      "  File \"/usr/lib/python3/dist-packages/flask/app.py\", line 1982, in make_response\n",
      "    reraise(TypeError, new_error, sys.exc_info()[2])\n",
      "  File \"/usr/lib/python3/dist-packages/flask/_compat.py\", line 34, in reraise\n",
      "    raise value.with_traceback(tb)\n",
      "  File \"/usr/lib/python3/dist-packages/flask/app.py\", line 1974, in make_response\n",
      "    rv = self.response_class.force_type(rv, request.environ)\n",
      "  File \"/usr/lib/python3/dist-packages/werkzeug/wrappers.py\", line 921, in force_type\n",
      "    response = BaseResponse(*_run_wsgi_app(response, environ))\n",
      "  File \"/usr/lib/python3/dist-packages/werkzeug/wrappers.py\", line 59, in _run_wsgi_app\n",
      "    return _run_wsgi_app(*args)\n",
      "  File \"/usr/lib/python3/dist-packages/werkzeug/test.py\", line 923, in run_wsgi_app\n",
      "    app_rv = app(environ, start_response)\n",
      "TypeError: 'generator' object is not callable\n",
      "The view function did not return a valid response. The return type must be a string, tuple, Response instance, or WSGI callable, but it was a generator.\n",
      "127.0.0.1 - - [19/Feb/2020 18:10:34] \"\u001b[37mGET /information/Taylor%20Swift?__debugger__=yes&cmd=resource&f=style.css HTTP/1.1\u001b[0m\" 200 -\n",
      "127.0.0.1 - - [19/Feb/2020 18:10:34] \"\u001b[37mGET /information/Taylor%20Swift?__debugger__=yes&cmd=resource&f=jquery.js HTTP/1.1\u001b[0m\" 200 -\n",
      "127.0.0.1 - - [19/Feb/2020 18:10:34] \"\u001b[37mGET /information/Taylor%20Swift?__debugger__=yes&cmd=resource&f=debugger.js HTTP/1.1\u001b[0m\" 200 -\n",
      "127.0.0.1 - - [19/Feb/2020 18:10:34] \"\u001b[37mGET /information/Taylor%20Swift?__debugger__=yes&cmd=resource&f=console.png HTTP/1.1\u001b[0m\" 200 -\n",
      "^C\n"
     ]
    }
   ],
   "source": [
    "!python3 music_search.py"
   ]
  },
  {
   "cell_type": "code",
   "execution_count": null,
   "metadata": {},
   "outputs": [],
   "source": []
  },
  {
   "cell_type": "code",
   "execution_count": null,
   "metadata": {},
   "outputs": [],
   "source": []
  }
 ],
 "metadata": {
  "kernelspec": {
   "display_name": "Python 3",
   "language": "python",
   "name": "python3"
  },
  "language_info": {
   "codemirror_mode": {
    "name": "ipython",
    "version": 3
   },
   "file_extension": ".py",
   "mimetype": "text/x-python",
   "name": "python",
   "nbconvert_exporter": "python",
   "pygments_lexer": "ipython3",
   "version": "3.7.3"
  }
 },
 "nbformat": 4,
 "nbformat_minor": 4
}
